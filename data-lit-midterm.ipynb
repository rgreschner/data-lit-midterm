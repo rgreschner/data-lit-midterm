{
 "cells": [
  {
   "cell_type": "markdown",
   "metadata": {},
   "source": [
    "# Stock Data Prediction Model using Linear Regression"
   ]
  },
  {
   "cell_type": "markdown",
   "metadata": {},
   "source": [
    "## Introduction\n",
    "\n",
    "This is a midterm coursework done for the Data Lit course of the School of AI.\n",
    "\n",
    "The goal of the midterm was to generate stock closing price prediction using some data retrieval, cleanup and model training to generate a prediction for a freely-choosen stock symbol. For the later, I chose MongoDB, Inc. (NASDAQ: MDB)."
   ]
  },
  {
   "cell_type": "markdown",
   "metadata": {},
   "source": [
    "## Setup\n",
    "\n",
    "First thing is to install additional pip dependencies not included in Anaconda. In order to do this, run the next line in the notebook."
   ]
  },
  {
   "cell_type": "code",
   "execution_count": 1,
   "metadata": {},
   "outputs": [
    {
     "name": "stdout",
     "output_type": "stream",
     "text": [
      "Requirement already satisfied: alpha_vantage in /home/ralph/anaconda3/lib/python3.7/site-packages (2.1.0)\n",
      "Requirement already satisfied: delorean in /home/ralph/anaconda3/lib/python3.7/site-packages (1.0.0)\n",
      "Requirement already satisfied: seaborn==0.9.0 in /home/ralph/anaconda3/lib/python3.7/site-packages (0.9.0)\n",
      "Requirement already satisfied: requests in /home/ralph/anaconda3/lib/python3.7/site-packages (from alpha_vantage) (2.21.0)\n",
      "Requirement already satisfied: python-dateutil>=2.4.2 in /home/ralph/anaconda3/lib/python3.7/site-packages (from delorean) (2.7.5)\n",
      "Requirement already satisfied: humanize>=0.5.1 in /home/ralph/anaconda3/lib/python3.7/site-packages (from delorean) (0.5.1)\n",
      "Requirement already satisfied: pytz>=2015.7 in /home/ralph/anaconda3/lib/python3.7/site-packages (from delorean) (2018.7)\n",
      "Requirement already satisfied: babel>=2.1.1 in /home/ralph/anaconda3/lib/python3.7/site-packages (from delorean) (2.6.0)\n",
      "Requirement already satisfied: tzlocal>=1.2 in /home/ralph/anaconda3/lib/python3.7/site-packages (from delorean) (1.5.1)\n",
      "Requirement already satisfied: numpy>=1.9.3 in /home/ralph/anaconda3/lib/python3.7/site-packages (from seaborn==0.9.0) (1.15.4)\n",
      "Requirement already satisfied: scipy>=0.14.0 in /home/ralph/anaconda3/lib/python3.7/site-packages (from seaborn==0.9.0) (1.1.0)\n",
      "Requirement already satisfied: matplotlib>=1.4.3 in /home/ralph/anaconda3/lib/python3.7/site-packages (from seaborn==0.9.0) (3.0.2)\n",
      "Requirement already satisfied: pandas>=0.15.2 in /home/ralph/anaconda3/lib/python3.7/site-packages (from seaborn==0.9.0) (0.23.4)\n",
      "Requirement already satisfied: certifi>=2017.4.17 in /home/ralph/anaconda3/lib/python3.7/site-packages (from requests->alpha_vantage) (2018.11.29)\n",
      "Requirement already satisfied: urllib3<1.25,>=1.21.1 in /home/ralph/anaconda3/lib/python3.7/site-packages (from requests->alpha_vantage) (1.24.1)\n",
      "Requirement already satisfied: chardet<3.1.0,>=3.0.2 in /home/ralph/anaconda3/lib/python3.7/site-packages (from requests->alpha_vantage) (3.0.4)\n",
      "Requirement already satisfied: idna<2.9,>=2.5 in /home/ralph/anaconda3/lib/python3.7/site-packages (from requests->alpha_vantage) (2.8)\n",
      "Requirement already satisfied: six>=1.5 in /home/ralph/anaconda3/lib/python3.7/site-packages (from python-dateutil>=2.4.2->delorean) (1.12.0)\n",
      "Requirement already satisfied: cycler>=0.10 in /home/ralph/anaconda3/lib/python3.7/site-packages (from matplotlib>=1.4.3->seaborn==0.9.0) (0.10.0)\n",
      "Requirement already satisfied: kiwisolver>=1.0.1 in /home/ralph/anaconda3/lib/python3.7/site-packages (from matplotlib>=1.4.3->seaborn==0.9.0) (1.0.1)\n",
      "Requirement already satisfied: pyparsing!=2.0.4,!=2.1.2,!=2.1.6,>=2.0.1 in /home/ralph/anaconda3/lib/python3.7/site-packages (from matplotlib>=1.4.3->seaborn==0.9.0) (2.3.0)\n",
      "Requirement already satisfied: setuptools in /home/ralph/anaconda3/lib/python3.7/site-packages (from kiwisolver>=1.0.1->matplotlib>=1.4.3->seaborn==0.9.0) (40.6.3)\n"
     ]
    }
   ],
   "source": [
    "!pip install alpha_vantage delorean seaborn==0.9.0"
   ]
  },
  {
   "cell_type": "markdown",
   "metadata": {},
   "source": [
    "If this is not working, manually invoke \n",
    "\n",
    "```\n",
    "pip install alpha_vantage delorean seaborn==0.9.0\n",
    "```\n",
    "\n",
    "in a command line prompt."
   ]
  },
  {
   "cell_type": "markdown",
   "metadata": {},
   "source": [
    "### Import required modules\n",
    "In order to do data cleanup, linear regression and evaluation additional imports are required."
   ]
  },
  {
   "cell_type": "code",
   "execution_count": 2,
   "metadata": {},
   "outputs": [],
   "source": [
    "# Import libraries for date handling.\n",
    "import delorean\n",
    "import time\n",
    "from datetime import datetime\n",
    "\n",
    "# Import libraries for general data handling.\n",
    "from alpha_vantage.timeseries import TimeSeries\n",
    "import numpy as np\n",
    "import pandas as pd\n",
    "\n",
    "# Import scikit-learn model fit and evaluation.\n",
    "from sklearn.linear_model import LinearRegression\n",
    "from sklearn.model_selection import train_test_split\n",
    "from sklearn.metrics import r2_score\n",
    "\n",
    "# Import Seaborn for plotting.\n",
    "import seaborn as sns"
   ]
  },
  {
   "cell_type": "markdown",
   "metadata": {},
   "source": [
    "### Configuration\n",
    "Configuration for the stock prediction model goes here.\n",
    "\n",
    "By default, the stock prediction is done for MongoDB, Inc. (NASDAQ: MDB) using historical data exported as CSV file for easier reproduction.\n",
    "Alternatively the source data may be loaded live from AlphaVantage. In order to do so, set `USE_LIVE_DATA=True` and set your user-specific API-Key in variable `ALPHAVANTAGE_API_KEY`.\n",
    "\n",
    "In order to evaluate the fitted model, a train / test split is used. The ratio of train / test data and random seed used for data selection are configurable using `SPLIT_POINT` respectively `SPLIT_SEED`."
   ]
  },
  {
   "cell_type": "code",
   "execution_count": 3,
   "metadata": {},
   "outputs": [],
   "source": [
    "# Stock symbol to do prediction for.\n",
    "STOCK_SYMBOL = 'MDB'\n",
    "# Use live data from AlphaVantage API.\n",
    "USE_LIVE_DATA = False\n",
    "# AlphaVantage API Key.\n",
    "ALPHAVANTAGE_API_KEY = '!!! your API key goes here !!!'\n",
    "# Ratio for train / test split.\n",
    "SPLIT_POINT = 0.7\n",
    "# Random seed for train / test data selection.\n",
    "SPLIT_SEED = 42\n",
    "# Path to CSV file containing historical stock data.\n",
    "HISTORICAL_CSV_DATA_PATH = './mdb-historical-data.csv'"
   ]
  },
  {
   "cell_type": "markdown",
   "metadata": {},
   "source": [
    "## Data Acquisition & Preparation"
   ]
  },
  {
   "cell_type": "markdown",
   "metadata": {},
   "source": [
    "### Load data from source\n",
    "\n",
    "Source can be either AlphaVantage API or local CSV file."
   ]
  },
  {
   "cell_type": "code",
   "execution_count": 4,
   "metadata": {},
   "outputs": [],
   "source": [
    "def load_daily_data_from_alpha_vantage():\n",
    "    \"\"\"\n",
    "    Load daily data from AlphaVantage API.\n",
    "    \"\"\"\n",
    "    print('Loading daily data from AlphaVantage API...')\n",
    "    ts = TimeSeries(key=ALPHAVANTAGE_API_KEY, output_format='pandas')\n",
    "    loaded_data_df, _ = ts.get_daily(STOCK_SYMBOL)\n",
    "    print('Loaded daily data from AlphaVantage API.')\n",
    "    return loaded_data_df\n",
    "\n",
    "def load_daily_data_from_csv():\n",
    "    \"\"\"\n",
    "    Load daily data from previously exported CSV.\n",
    "    \"\"\"\n",
    "    loaded_data_df = pd.read_csv(HISTORICAL_CSV_DATA_PATH) \\\n",
    "        .set_index('date')\n",
    "    print('Loaded daily data from historical CSV.')\n",
    "    return loaded_data_df"
   ]
  },
  {
   "cell_type": "markdown",
   "metadata": {},
   "source": [
    "### Data Preparation\n",
    "\n",
    "Before being usable for predictions, the source data needs to be scrubbed a tiny bit.\n",
    "\n",
    "For example, the source data contains attributes for stock high, low etc. whereas only the closing price is relevant for this prediction.\n",
    "Additionally the data type for `date` is adjusted, additional attributes like `date_unix` for easier linear prediction and a human-readable date output for input data validation in `date_formatted` are generated from it etc."
   ]
  },
  {
   "cell_type": "code",
   "execution_count": 5,
   "metadata": {},
   "outputs": [],
   "source": [
    "def prepare_daily_data(data):\n",
    "    \"\"\"\n",
    "    Prepare input data for prediction and visual inspection etc.\n",
    "    \"\"\"\n",
    "    # Select only relevant columns in source.\n",
    "    stock_data_only_close = data[['4. close']] \\\n",
    "        .reset_index() \\\n",
    "        .reset_index() \\\n",
    "        .rename({'4. close': 'close'}, axis=1)\n",
    "    # Map date to date structure from DeLorean lib for easier manipulation and parsing.\n",
    "    stock_data_only_close['date_delorean'] = stock_data_only_close['date'].apply(lambda date: delorean.parse(date, dayfirst=False))\n",
    "    # Format date human-readable for input data validation, e.g. to prevent flipped day/month values.\n",
    "    # Use ISO 8601 for uniform display.\n",
    "    stock_data_only_close['date'] = stock_data_only_close['date_delorean'].apply(lambda date: date.date)\n",
    "    stock_data_only_close['date_formatted'] = stock_data_only_close['date'].apply(lambda date: date.isoformat())\n",
    "    stock_data_only_close['date_unix'] = stock_data_only_close['date'].apply(lambda date: time.mktime(date.timetuple()))\n",
    "    # Drop unnecessary columns.\n",
    "    stock_data_only_close = stock_data_only_close.drop(['date_delorean'], axis=1)\n",
    "    return stock_data_only_close"
   ]
  },
  {
   "cell_type": "code",
   "execution_count": 6,
   "metadata": {},
   "outputs": [
    {
     "name": "stdout",
     "output_type": "stream",
     "text": [
      "Loaded daily data from historical CSV.\n"
     ]
    }
   ],
   "source": [
    "# Load data from configured source.\n",
    "loaded_data_df = load_daily_data_from_alpha_vantage() if USE_LIVE_DATA else load_daily_data_from_csv()\n",
    "# Prepare input data.\n",
    "prepared_data_df = prepare_daily_data(loaded_data_df)"
   ]
  },
  {
   "cell_type": "markdown",
   "metadata": {},
   "source": [
    "After doing data preparation let's do some exploratory data analysis to spot some obvious defects (if any) etc."
   ]
  },
  {
   "cell_type": "code",
   "execution_count": 7,
   "metadata": {},
   "outputs": [
    {
     "data": {
      "text/html": [
       "<div>\n",
       "<style scoped>\n",
       "    .dataframe tbody tr th:only-of-type {\n",
       "        vertical-align: middle;\n",
       "    }\n",
       "\n",
       "    .dataframe tbody tr th {\n",
       "        vertical-align: top;\n",
       "    }\n",
       "\n",
       "    .dataframe thead th {\n",
       "        text-align: right;\n",
       "    }\n",
       "</style>\n",
       "<table border=\"1\" class=\"dataframe\">\n",
       "  <thead>\n",
       "    <tr style=\"text-align: right;\">\n",
       "      <th></th>\n",
       "      <th>index</th>\n",
       "      <th>date</th>\n",
       "      <th>close</th>\n",
       "      <th>date_formatted</th>\n",
       "      <th>date_unix</th>\n",
       "    </tr>\n",
       "  </thead>\n",
       "  <tbody>\n",
       "    <tr>\n",
       "      <th>90</th>\n",
       "      <td>90</td>\n",
       "      <td>2019-02-25</td>\n",
       "      <td>107.92</td>\n",
       "      <td>2019-02-25</td>\n",
       "      <td>1.551049e+09</td>\n",
       "    </tr>\n",
       "    <tr>\n",
       "      <th>91</th>\n",
       "      <td>91</td>\n",
       "      <td>2019-02-26</td>\n",
       "      <td>98.27</td>\n",
       "      <td>2019-02-26</td>\n",
       "      <td>1.551136e+09</td>\n",
       "    </tr>\n",
       "    <tr>\n",
       "      <th>92</th>\n",
       "      <td>92</td>\n",
       "      <td>2019-02-27</td>\n",
       "      <td>100.48</td>\n",
       "      <td>2019-02-27</td>\n",
       "      <td>1.551222e+09</td>\n",
       "    </tr>\n",
       "    <tr>\n",
       "      <th>93</th>\n",
       "      <td>93</td>\n",
       "      <td>2019-02-28</td>\n",
       "      <td>101.56</td>\n",
       "      <td>2019-02-28</td>\n",
       "      <td>1.551308e+09</td>\n",
       "    </tr>\n",
       "    <tr>\n",
       "      <th>94</th>\n",
       "      <td>94</td>\n",
       "      <td>2019-03-01</td>\n",
       "      <td>104.16</td>\n",
       "      <td>2019-03-01</td>\n",
       "      <td>1.551395e+09</td>\n",
       "    </tr>\n",
       "    <tr>\n",
       "      <th>95</th>\n",
       "      <td>95</td>\n",
       "      <td>2019-03-04</td>\n",
       "      <td>96.77</td>\n",
       "      <td>2019-03-04</td>\n",
       "      <td>1.551654e+09</td>\n",
       "    </tr>\n",
       "    <tr>\n",
       "      <th>96</th>\n",
       "      <td>96</td>\n",
       "      <td>2019-03-05</td>\n",
       "      <td>101.03</td>\n",
       "      <td>2019-03-05</td>\n",
       "      <td>1.551740e+09</td>\n",
       "    </tr>\n",
       "    <tr>\n",
       "      <th>97</th>\n",
       "      <td>97</td>\n",
       "      <td>2019-03-06</td>\n",
       "      <td>97.09</td>\n",
       "      <td>2019-03-06</td>\n",
       "      <td>1.551827e+09</td>\n",
       "    </tr>\n",
       "    <tr>\n",
       "      <th>98</th>\n",
       "      <td>98</td>\n",
       "      <td>2019-03-07</td>\n",
       "      <td>99.46</td>\n",
       "      <td>2019-03-07</td>\n",
       "      <td>1.551913e+09</td>\n",
       "    </tr>\n",
       "    <tr>\n",
       "      <th>99</th>\n",
       "      <td>99</td>\n",
       "      <td>2019-03-08</td>\n",
       "      <td>99.80</td>\n",
       "      <td>2019-03-08</td>\n",
       "      <td>1.552000e+09</td>\n",
       "    </tr>\n",
       "  </tbody>\n",
       "</table>\n",
       "</div>"
      ],
      "text/plain": [
       "    index        date   close date_formatted     date_unix\n",
       "90     90  2019-02-25  107.92     2019-02-25  1.551049e+09\n",
       "91     91  2019-02-26   98.27     2019-02-26  1.551136e+09\n",
       "92     92  2019-02-27  100.48     2019-02-27  1.551222e+09\n",
       "93     93  2019-02-28  101.56     2019-02-28  1.551308e+09\n",
       "94     94  2019-03-01  104.16     2019-03-01  1.551395e+09\n",
       "95     95  2019-03-04   96.77     2019-03-04  1.551654e+09\n",
       "96     96  2019-03-05  101.03     2019-03-05  1.551740e+09\n",
       "97     97  2019-03-06   97.09     2019-03-06  1.551827e+09\n",
       "98     98  2019-03-07   99.46     2019-03-07  1.551913e+09\n",
       "99     99  2019-03-08   99.80     2019-03-08  1.552000e+09"
      ]
     },
     "execution_count": 7,
     "metadata": {},
     "output_type": "execute_result"
    }
   ],
   "source": [
    "prepared_data_df.tail(10)"
   ]
  },
  {
   "cell_type": "code",
   "execution_count": 8,
   "metadata": {},
   "outputs": [],
   "source": [
    "def convert_data_frame_to_vectors(prepared_data_df):\n",
    "    \"\"\"\n",
    "    Convert input data frame to vector input\n",
    "    for scikit-learn regressor.\n",
    "    \"\"\"\n",
    "    # Uses Unix timestamp as independent variable\n",
    "    # for predicition input.\n",
    "    dates = prepared_data_df['date_unix'].tolist()\n",
    "    prices = prepared_data_df['close'].tolist()\n",
    "    dates = np.reshape(dates, (len(dates), 1))\n",
    "    prices = np.reshape(prices, (len(prices), 1))\n",
    "    return dates, prices\n",
    "\n",
    "# Prepare vector inputs for model fit.\n",
    "dates, prices = convert_data_frame_to_vectors(prepared_data_df)"
   ]
  },
  {
   "cell_type": "markdown",
   "metadata": {},
   "source": [
    "## Model Fitting & Application"
   ]
  },
  {
   "cell_type": "markdown",
   "metadata": {},
   "source": [
    "### Model Fitting\n",
    "\n",
    "Data is split into test and train set for model evaluation, split point is configured at `SPLIT_POINT=0.7` which means 70% of data points are used for regression fitting."
   ]
  },
  {
   "cell_type": "code",
   "execution_count": 9,
   "metadata": {},
   "outputs": [],
   "source": [
    "def split_data(dates, prices):\n",
    "    \"\"\"\n",
    "    Split input data at configured split point\n",
    "    in order to generate train / test data sets.\n",
    "    \"\"\"\n",
    "    return train_test_split(dates, prices, test_size=1-SPLIT_POINT, random_state=SPLIT_SEED)\n",
    "\n",
    "def get_split_info_df(x_train, x_test):\n",
    "    \"\"\"\n",
    "    Get information for train / test data set split\n",
    "    for debugging / accountability reasons.\n",
    "    \"\"\"\n",
    "    train_test_split_info_df = pd.DataFrame([\n",
    "        {'Name': 'Train Set', 'Count': len(x_train)},\n",
    "        {'Name': 'Test Set', 'Count': len(x_test)}\n",
    "    ])\n",
    "    train_test_split_info_df = train_test_split_info_df[['Name', 'Count']]\n",
    "    return train_test_split_info_df\n",
    "\n",
    "x_train, x_test, y_train, y_test = split_data(dates, prices)"
   ]
  },
  {
   "cell_type": "code",
   "execution_count": 10,
   "metadata": {},
   "outputs": [
    {
     "data": {
      "text/html": [
       "<div>\n",
       "<style scoped>\n",
       "    .dataframe tbody tr th:only-of-type {\n",
       "        vertical-align: middle;\n",
       "    }\n",
       "\n",
       "    .dataframe tbody tr th {\n",
       "        vertical-align: top;\n",
       "    }\n",
       "\n",
       "    .dataframe thead th {\n",
       "        text-align: right;\n",
       "    }\n",
       "</style>\n",
       "<table border=\"1\" class=\"dataframe\">\n",
       "  <thead>\n",
       "    <tr style=\"text-align: right;\">\n",
       "      <th></th>\n",
       "      <th>Name</th>\n",
       "      <th>Count</th>\n",
       "    </tr>\n",
       "  </thead>\n",
       "  <tbody>\n",
       "    <tr>\n",
       "      <th>0</th>\n",
       "      <td>Train Set</td>\n",
       "      <td>69</td>\n",
       "    </tr>\n",
       "    <tr>\n",
       "      <th>1</th>\n",
       "      <td>Test Set</td>\n",
       "      <td>31</td>\n",
       "    </tr>\n",
       "  </tbody>\n",
       "</table>\n",
       "</div>"
      ],
      "text/plain": [
       "        Name  Count\n",
       "0  Train Set     69\n",
       "1   Test Set     31"
      ]
     },
     "execution_count": 10,
     "metadata": {},
     "output_type": "execute_result"
    }
   ],
   "source": [
    "train_test_split_info_df = get_split_info_df(x_train, x_test)\n",
    "train_test_split_info_df"
   ]
  },
  {
   "cell_type": "markdown",
   "metadata": {},
   "source": [
    "Fit linear regressor using train data set."
   ]
  },
  {
   "cell_type": "code",
   "execution_count": 11,
   "metadata": {},
   "outputs": [
    {
     "data": {
      "text/plain": [
       "LinearRegression(copy_X=True, fit_intercept=True, n_jobs=None,\n",
       "         normalize=False)"
      ]
     },
     "execution_count": 11,
     "metadata": {},
     "output_type": "execute_result"
    }
   ],
   "source": [
    "regressor = LinearRegression()\n",
    "regressor.fit(x_train, y_train)"
   ]
  },
  {
   "cell_type": "markdown",
   "metadata": {},
   "source": [
    "### Model Application"
   ]
  },
  {
   "cell_type": "code",
   "execution_count": 12,
   "metadata": {},
   "outputs": [],
   "source": [
    "def predict_for_dates(prediction_dates):\n",
    "    \"\"\"\n",
    "    Predict closing stock price for\n",
    "    supplied date values.\n",
    "    \"\"\"\n",
    "    # Actually predict values.\n",
    "    predicted_closes = regressor.predict(prediction_dates)\n",
    "    # Map supplied date values to DataFrame for easier post-processing.\n",
    "    dates_df = pd.DataFrame(prediction_dates, columns=['date_unix']).reset_index()\n",
    "    # Output prediction result in column 'predicted_close' in DataFrame\n",
    "    # including date as well.\n",
    "    predicted_closes_df = pd.DataFrame(predicted_closes, columns=['predicted_close']) \\\n",
    "        .reset_index() \\\n",
    "        .merge(dates_df)\n",
    "    return predicted_closes_df\n",
    "\n",
    "def prepare_predicted(predicted_closes_df, prepared_data_df):\n",
    "    \"\"\"\n",
    "    Prepare prediction output for graph plotting,\n",
    "    rename labels etc.\n",
    "    \"\"\"\n",
    "    display_data = predicted_closes_df.drop('index', axis=1).merge(prepared_data_df.drop('index', axis=1), how='left', on='date_unix')\n",
    "    display_data['date'] = display_data['date_unix'].map(lambda date_unix: datetime.fromtimestamp(date_unix))\n",
    "    display_data = display_data[['date', 'close', 'predicted_close']] \\\n",
    "        .rename({'date':'Date', 'close': 'Close (actual)', 'predicted_close': 'Close (predicted)'}, axis=1) \\\n",
    "        .set_index('Date')\n",
    "    return display_data"
   ]
  },
  {
   "cell_type": "code",
   "execution_count": 13,
   "metadata": {},
   "outputs": [],
   "source": [
    "prediction_dates = dates\n",
    "predicted_closes_df = predict_for_dates(prediction_dates)"
   ]
  },
  {
   "cell_type": "code",
   "execution_count": 14,
   "metadata": {},
   "outputs": [
    {
     "data": {
      "text/html": [
       "<div>\n",
       "<style scoped>\n",
       "    .dataframe tbody tr th:only-of-type {\n",
       "        vertical-align: middle;\n",
       "    }\n",
       "\n",
       "    .dataframe tbody tr th {\n",
       "        vertical-align: top;\n",
       "    }\n",
       "\n",
       "    .dataframe thead th {\n",
       "        text-align: right;\n",
       "    }\n",
       "</style>\n",
       "<table border=\"1\" class=\"dataframe\">\n",
       "  <thead>\n",
       "    <tr style=\"text-align: right;\">\n",
       "      <th></th>\n",
       "      <th>Close (actual)</th>\n",
       "      <th>Close (predicted)</th>\n",
       "    </tr>\n",
       "    <tr>\n",
       "      <th>Date</th>\n",
       "      <th></th>\n",
       "      <th></th>\n",
       "    </tr>\n",
       "  </thead>\n",
       "  <tbody>\n",
       "    <tr>\n",
       "      <th>2018-10-12</th>\n",
       "      <td>64.69</td>\n",
       "      <td>68.473966</td>\n",
       "    </tr>\n",
       "    <tr>\n",
       "      <th>2018-10-15</th>\n",
       "      <td>65.14</td>\n",
       "      <td>69.088879</td>\n",
       "    </tr>\n",
       "    <tr>\n",
       "      <th>2018-10-16</th>\n",
       "      <td>70.30</td>\n",
       "      <td>69.293850</td>\n",
       "    </tr>\n",
       "    <tr>\n",
       "      <th>2018-10-17</th>\n",
       "      <td>70.53</td>\n",
       "      <td>69.498821</td>\n",
       "    </tr>\n",
       "    <tr>\n",
       "      <th>2018-10-18</th>\n",
       "      <td>68.79</td>\n",
       "      <td>69.703792</td>\n",
       "    </tr>\n",
       "    <tr>\n",
       "      <th>2018-10-19</th>\n",
       "      <td>65.04</td>\n",
       "      <td>69.908763</td>\n",
       "    </tr>\n",
       "    <tr>\n",
       "      <th>2018-10-22</th>\n",
       "      <td>69.14</td>\n",
       "      <td>70.523676</td>\n",
       "    </tr>\n",
       "    <tr>\n",
       "      <th>2018-10-23</th>\n",
       "      <td>71.26</td>\n",
       "      <td>70.728647</td>\n",
       "    </tr>\n",
       "    <tr>\n",
       "      <th>2018-10-24</th>\n",
       "      <td>66.99</td>\n",
       "      <td>70.933618</td>\n",
       "    </tr>\n",
       "    <tr>\n",
       "      <th>2018-10-25</th>\n",
       "      <td>72.52</td>\n",
       "      <td>71.138589</td>\n",
       "    </tr>\n",
       "  </tbody>\n",
       "</table>\n",
       "</div>"
      ],
      "text/plain": [
       "            Close (actual)  Close (predicted)\n",
       "Date                                         \n",
       "2018-10-12           64.69          68.473966\n",
       "2018-10-15           65.14          69.088879\n",
       "2018-10-16           70.30          69.293850\n",
       "2018-10-17           70.53          69.498821\n",
       "2018-10-18           68.79          69.703792\n",
       "2018-10-19           65.04          69.908763\n",
       "2018-10-22           69.14          70.523676\n",
       "2018-10-23           71.26          70.728647\n",
       "2018-10-24           66.99          70.933618\n",
       "2018-10-25           72.52          71.138589"
      ]
     },
     "execution_count": 14,
     "metadata": {},
     "output_type": "execute_result"
    }
   ],
   "source": [
    "plotted_data_df = prepare_predicted(predicted_closes_df, prepared_data_df)\n",
    "plotted_data_df.head(10)"
   ]
  },
  {
   "cell_type": "markdown",
   "metadata": {},
   "source": [
    "Plot prediction and actual values using Seaborn."
   ]
  },
  {
   "cell_type": "code",
   "execution_count": 15,
   "metadata": {},
   "outputs": [
    {
     "data": {
      "text/plain": [
       "<matplotlib.axes._subplots.AxesSubplot at 0x7f7cf2b07048>"
      ]
     },
     "execution_count": 15,
     "metadata": {},
     "output_type": "execute_result"
    },
    {
     "data": {
      "image/png": "[encoded data removed]",
      "text/plain": [
       "<Figure size 432x288 with 1 Axes>"
      ]
     },
     "metadata": {
      "needs_background": "light"
     },
     "output_type": "display_data"
    }
   ],
   "source": [
    "sns.lineplot(data=plotted_data_df)"
   ]
  },
  {
   "cell_type": "markdown",
   "metadata": {},
   "source": [
    "### Model Evaluation"
   ]
  },
  {
   "cell_type": "markdown",
   "metadata": {},
   "source": [
    "Lastly do some model evaluation using the train / test data sets.\n",
    "For this, the so called R^2 score is used.\n",
    "\n",
    "> In statistics, the coefficient of determination, denoted R^2 or r^2 and pronounced \"R squared\", is the proportion of the variance in the dependent variable that is predictable from the independent variable(s).\n",
    "\n",
    "*Coefficient of determination. In Wikipedia. Retrieved March 9 2019, from\n",
    "   https://en.wikipedia.org/wiki/Coefficient_of_determination*\n",
    "\n",
    "The closer this value equals to 1.0, the less variance there is between the calculated regression line, e.g. less outliers between predicted and actual values are present."
   ]
  },
  {
   "cell_type": "code",
   "execution_count": 16,
   "metadata": {},
   "outputs": [],
   "source": [
    "# Generate predictions for test data set.\n",
    "y_pred = regressor.predict(x_test)\n",
    "# Calculate R^2 score for linear regression.\n",
    "calculated_r2_score = r2_score(y_test, y_pred)"
   ]
  },
  {
   "cell_type": "markdown",
   "metadata": {},
   "source": [
    "Output the calculated R^2 score for the fit model."
   ]
  },
  {
   "cell_type": "code",
   "execution_count": 17,
   "metadata": {},
   "outputs": [
    {
     "data": {
      "text/plain": [
       "0.7812990204519199"
      ]
     },
     "execution_count": 17,
     "metadata": {},
     "output_type": "execute_result"
    }
   ],
   "source": [
    "calculated_r2_score"
   ]
  },
  {
   "cell_type": "markdown",
   "metadata": {},
   "source": [
    "The calculated R^2 score for the given historical data set and the given default parameters for split etc. is ~0.7812.\n",
    "\n",
    "During testing with the split parameters, the calculated R^2 score was between 0.6 - 0.8, this means that more sophisticated techniques like Time Series Predicition using ARIMA / Facebook's Prophet, RNNs or maybe just a multiple linear-regression should be considered for better prediction value.\n",
    "Also the assumption that there is a linear correlation between date value and prediction price seems unlikely."
   ]
  }
 ],
 "metadata": {
  "kernelspec": {
   "display_name": "Python 3",
   "language": "python",
   "name": "python3"
  },
  "language_info": {
   "codemirror_mode": {
    "name": "ipython",
    "version": 3
   },
   "file_extension": ".py",
   "mimetype": "text/x-python",
   "name": "python",
   "nbconvert_exporter": "python",
   "pygments_lexer": "ipython3",
   "version": "3.7.1"
  }
 },
 "nbformat": 4,
 "nbformat_minor": 2
}
